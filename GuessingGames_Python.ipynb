{
 "cells": [
  {
   "cell_type": "markdown",
   "id": "dcd7bdd8",
   "metadata": {},
   "source": [
    "## Guess the Number game"
   ]
  },
  {
   "cell_type": "code",
   "execution_count": 3,
   "id": "2b4c9eeb",
   "metadata": {},
   "outputs": [
    {
     "name": "stdout",
     "output_type": "stream",
     "text": [
      "guess a number between 0 and 20: 2\n",
      "Number is too low, try again: 6\n",
      "Number is too low, try again: 11\n",
      "Number is too low, try again: 19\n",
      "Number is too high, try again: 16\n",
      "Number is too high, try again: 15\n",
      "Number is too high, try again: 14\n",
      "Number is too high, try again: 13\n",
      "Number is too high, try again: 12\n",
      "Congratulation! You managed to guess the number 12\n"
     ]
    }
   ],
   "source": [
    "from random import randint           \n",
    "\n",
    "def computer_number(min_num,max_num):  \n",
    "    return randint(min_num,max_num)\n",
    "\n",
    "def player_guess(min_num,max_num):\n",
    "    '''\n",
    "    function that asks the player for a number.\n",
    "    returns random int\n",
    "    '''\n",
    "    user_input = int(input(f'guess a number between {min_num} and {max_num}: '))\n",
    "    return user_input\n",
    "\n",
    "def play():\n",
    "    #define high and low guessing range\n",
    "    low = 0\n",
    "    high = 20\n",
    "\n",
    "    #get input from computer and player\n",
    "    computer_choice = computer_number(low,high)\n",
    "    player_choice = player_guess(low,high)\n",
    "\n",
    "    #loop until player guesses the number\n",
    "    while player_choice != computer_choice:\n",
    "        if player_choice>computer_choice:\n",
    "            player_choice = int(input('Number is too high, try again: '))\n",
    "        elif player_choice<computer_choice:\n",
    "            player_choice = int(input('Number is too low, try again: '))\n",
    "\n",
    "    print (f'Congratulation! You managed to guess the number {computer_choice}')\n",
    "\n",
    "play()"
   ]
  },
  {
   "cell_type": "markdown",
   "id": "61f16857",
   "metadata": {},
   "source": [
    "1. We called out function `random` and import `randint` to return a random int.\n",
    "\n",
    "2. Then create two functions to get the computer number and the player number.\n",
    "    **def computer_number(min_num,max_num)** This returned an integer.\n",
    "    **player_guess(min_num,max_num)**. The players guessed number and returns it.\n",
    "    \n",
    "3. Looping won't stop until the player has guessed correctly by applied the `while` loop. The expression states that while `player_choice` is not the same as `computer_choice`, check if it is lower or higher and guess again. The game print a success message when they have the same value.\n",
    "    \n",
    "4. Add a function that allow the player to quit if they are tired of guessing\n",
    "\n",
    "5. Have the player decide the guessing range.\n",
    "\n",
    "\n"
   ]
  }
 ],
 "metadata": {
  "kernelspec": {
   "display_name": "Python 3 (ipykernel)",
   "language": "python",
   "name": "python3"
  },
  "language_info": {
   "codemirror_mode": {
    "name": "ipython",
    "version": 3
   },
   "file_extension": ".py",
   "mimetype": "text/x-python",
   "name": "python",
   "nbconvert_exporter": "python",
   "pygments_lexer": "ipython3",
   "version": "3.9.7"
  }
 },
 "nbformat": 4,
 "nbformat_minor": 5
}
